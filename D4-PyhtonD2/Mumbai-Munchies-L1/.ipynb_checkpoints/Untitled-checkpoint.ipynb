{
 "cells": [
  {
   "cell_type": "code",
   "execution_count": 4,
   "id": "372f1122",
   "metadata": {},
   "outputs": [
    {
     "data": {
      "text/plain": [
       "False"
      ]
     },
     "execution_count": 4,
     "metadata": {},
     "output_type": "execute_result"
    }
   ],
   "source": [
    "1=='1'"
   ]
  },
  {
   "cell_type": "code",
   "execution_count": null,
   "id": "f8dc28b5",
   "metadata": {},
   "outputs": [],
   "source": [
    "%run '/Users/sumit/Documents/GA201/D4-PyhtonD2/Mumbai-Munchies-L1/main.py'"
   ]
  },
  {
   "cell_type": "code",
   "execution_count": null,
   "id": "9097bf26",
   "metadata": {},
   "outputs": [],
   "source": []
  }
 ],
 "metadata": {
  "kernelspec": {
   "display_name": "Python 3 (ipykernel)",
   "language": "python",
   "name": "python3"
  },
  "language_info": {
   "codemirror_mode": {
    "name": "ipython",
    "version": 3
   },
   "file_extension": ".py",
   "mimetype": "text/x-python",
   "name": "python",
   "nbconvert_exporter": "python",
   "pygments_lexer": "ipython3",
   "version": "3.11.4"
  }
 },
 "nbformat": 4,
 "nbformat_minor": 5
}
