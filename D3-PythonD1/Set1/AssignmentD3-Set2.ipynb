{
 "cells": [
  {
   "cell_type": "raw",
   "id": "21a9b1ce",
   "metadata": {},
   "source": [
    "\n",
    "### Problem **1: Print the following pattern**\n",
    "\n",
    "Write a program to print the following number pattern using a loop.\n",
    "1\n",
    "1 2\n",
    "1 2 3\n",
    "1 2 3 4\n",
    "1 2 3 4 5"
   ]
  },
  {
   "cell_type": "code",
   "execution_count": 17,
   "id": "d7b518e7",
   "metadata": {},
   "outputs": [
    {
     "name": "stdout",
     "output_type": "stream",
     "text": [
      "enter the number5\n",
      "1 \n",
      "1 2 \n",
      "1 2 3 \n",
      "1 2 3 4 \n",
      "1 2 3 4 5 \n"
     ]
    }
   ],
   "source": [
    "n = int(input(\"enter the number \"))\n",
    "for i in range(1,n+1):\n",
    "    for j in range(1,i+1):\n",
    "        print(str(j),end=' ');\n",
    "    print()"
   ]
  },
  {
   "cell_type": "raw",
   "id": "ad1f80e2",
   "metadata": {},
   "source": [
    "# Problem **2: Display numbers from a list using loop**\n",
    "\n",
    "Write a program to display only those numbers from a [list](https://pynative.com/python-lists/) that satisfy the following conditions\n",
    "\n",
    "- The number must be divisible by five\n",
    "- If the number is greater than 150, then skip it and move to the next number\n",
    "- If the number is greater than 500, then stop the loop\n",
    "\n",
    "**Given**:\n",
    "\n",
    "```\n",
    "numbers = [12, 75, 150, 180, 145, 525, 50]\n",
    "```\n",
    "\n",
    "**Expected output:**\n",
    "75\n",
    "150\n",
    "145"
   ]
  },
  {
   "cell_type": "code",
   "execution_count": 36,
   "id": "2e6fc2a7",
   "metadata": {},
   "outputs": [
    {
     "name": "stdout",
     "output_type": "stream",
     "text": [
      "75\n",
      "150\n",
      "145\n"
     ]
    }
   ],
   "source": [
    "numbers = [12, 75, 150, 180, 145, 525, 50]\n",
    "for i in numbers:\n",
    "    if i >= 500:\n",
    "        break\n",
    "    elif i > 150:\n",
    "        continue\n",
    "    elif i % 5 == 0:\n",
    "        print(i)\n"
   ]
  },
  {
   "cell_type": "markdown",
   "id": "9d732bec",
   "metadata": {},
   "source": [
    "### Problem **3: Append new string in the middle of a given string**\n",
    "\n",
    "Given two strings, `s1` and `s2`. Write a program to create a new string `s3` by appending `s2` in the middle of `s1`.\n",
    "\n",
    "**Given**:\n",
    "\n",
    "```\n",
    "s1 = \"Ault\"\n",
    "s2 = \"Kelly\"\n",
    "```\n",
    "\n",
    "**Expected Output**:\n",
    "\n",
    "```\n",
    "AuKellylt\n",
    "```"
   ]
  },
  {
   "cell_type": "code",
   "execution_count": 48,
   "id": "b9a2361c",
   "metadata": {},
   "outputs": [
    {
     "name": "stdout",
     "output_type": "stream",
     "text": [
      " Enter First String sumit\n",
      " Enter Second String kumar\n",
      "2\n",
      "su\n",
      "mit\n",
      "sukumarmit\n"
     ]
    }
   ],
   "source": [
    "string1 = input(\" Enter First String \")\n",
    "string2 = input(\" Enter Second String \")\n",
    "\n",
    "str1Len = int(len(string1)/2)\n",
    "print(str1Len)\n",
    "first_half = string1[:str1Len]\n",
    "second_half = string1[str1Len:]\n",
    "print(first_half)\n",
    "print(second_half)\n",
    "outputString = first_half + string2 + second_half\n",
    "print(outputString)"
   ]
  },
  {
   "cell_type": "markdown",
   "id": "6ecbdce9",
   "metadata": {},
   "source": [
    "### Problem **4: Arrange string characters such that lowercase letters should come first**\n",
    "\n",
    "Given string contains a combination of the lower and upper case letters. Write a program to arrange the characters of a string so that all lowercase letters should come first.\n",
    "\n",
    "**Given**:\n",
    "\n",
    "```\n",
    "str1 = PyNaTive\n",
    "```\n",
    "\n",
    "**Expected Output**:\n",
    "yaivePNT"
   ]
  },
  {
   "cell_type": "code",
   "execution_count": 50,
   "id": "92aba790",
   "metadata": {},
   "outputs": [
    {
     "name": "stdout",
     "output_type": "stream",
     "text": [
      " Enter String PyNaTive\n",
      "<class 'str'>\n",
      "yaivePNT\n"
     ]
    }
   ],
   "source": [
    "def arrange_string(str1):\n",
    "    \n",
    "    lowercase_letters = ''.join([char for char in str1 if char.islower()])\n",
    "    uppercase_letters = ''.join([char for char in str1 if char.isupper()])\n",
    "    \n",
    "#     print(type(lowercase_letters))\n",
    "    arranged_string = lowercase_letters + uppercase_letters\n",
    "    \n",
    "    return arranged_string\n",
    "\n",
    "\n",
    "str1 = input(\" Enter String \")\n",
    "result = arrange_string(str1)\n",
    "print(result)\n"
   ]
  },
  {
   "cell_type": "code",
   "execution_count": 53,
   "id": "b1e2e493",
   "metadata": {},
   "outputs": [
    {
     "name": "stdout",
     "output_type": "stream",
     "text": [
      "['My', 'name', 'is', 'Kelly']\n"
     ]
    }
   ],
   "source": [
    "#Question 5\n",
    "\n",
    "\n",
    "def concatenate_lists_indexwise(list1, list2):\n",
    "   \n",
    "    result = []\n",
    "\n",
    "\n",
    "    min_length = min(len(list1), len(list2))\n",
    "\n",
    "    \n",
    "    for i in range(min_length):\n",
    "        result.append(list1[i] + list2[i])\n",
    "\n",
    "    \n",
    "    if len(list1) > len(list2):\n",
    "        result.extend(list1[min_length:])\n",
    "    else:\n",
    "        result.extend(list2[min_length:])\n",
    "    \n",
    "    return result\n",
    "\n",
    "# Given lists\n",
    "list1 = [\"M\", \"na\", \"i\", \"Ke\"]\n",
    "list2 = [\"y\", \"me\", \"s\", \"lly\"]\n",
    "\n",
    "# Concatenate the lists index-wise\n",
    "result = concatenate_lists_indexwise(list1, list2)\n",
    "print(result)\n"
   ]
  },
  {
   "cell_type": "code",
   "execution_count": 56,
   "id": "7820b191",
   "metadata": {},
   "outputs": [
    {
     "name": "stdout",
     "output_type": "stream",
     "text": [
      "['Hello Dear', 'Hello Sir', 'take Dear', 'take Sir']\n"
     ]
    }
   ],
   "source": [
    "#problem 6\n",
    "list1 = [\"Hello \", \"take \"]\n",
    "list2 = [\"Dear\", \"Sir\"]\n",
    "result = []\n",
    "for i in range(len(list1)):\n",
    "    for j in range(len(list2)):\n",
    "        result.append(list1[i]+list2[j])\n",
    "print(result)"
   ]
  },
  {
   "cell_type": "code",
   "execution_count": 59,
   "id": "122bdca8",
   "metadata": {},
   "outputs": [
    {
     "name": "stdout",
     "output_type": "stream",
     "text": [
      "10 400\n",
      "20 300\n",
      "30 200\n",
      "40 100\n"
     ]
    }
   ],
   "source": [
    "list1 = [10, 20, 30, 40]\n",
    "list2 = [100, 200, 300, 400]\n",
    "\n",
    "reversedList = list(reversed(list2)) \n",
    "\n",
    "for i,j in zip(list1,reversedList):\n",
    "    print(i,j)"
   ]
  },
  {
   "cell_type": "code",
   "execution_count": 60,
   "id": "92b6bd03",
   "metadata": {},
   "outputs": [
    {
     "name": "stdout",
     "output_type": "stream",
     "text": [
      "{'Kelly': {'designation': 'Developer', 'salary': 8000}, 'Emma': {'designation': 'Developer', 'salary': 8000}}\n"
     ]
    }
   ],
   "source": [
    "#problem 7\n",
    "\n",
    "employees = ['Kelly', 'Emma']\n",
    "defaults = {\"designation\": 'Developer', \"salary\": 8000}\n",
    "resultKey = {}\n",
    "for i in employees:\n",
    "    resultKey[i] = defaults;\n",
    "print(resultKey)"
   ]
  },
  {
   "cell_type": "code",
   "execution_count": 65,
   "id": "5a290fa0",
   "metadata": {},
   "outputs": [
    {
     "name": "stdout",
     "output_type": "stream",
     "text": [
      "{'name': 'Kelly', 'salary': 8000}\n"
     ]
    }
   ],
   "source": [
    "#problem 8\n",
    "\n",
    "sample_dict = {\n",
    "    \"name\": \"Kelly\",\n",
    "    \"age\": 25,\n",
    "    \"salary\": 8000,\n",
    "    \"city\": \"New york\"}\n",
    "\n",
    "keyExt = []\n",
    "\n",
    "for key in sample_dict.keys():\n",
    "    if(key==\"name\" or key==\"salary\"):\n",
    "        keyExt.append(key)\n",
    "\n",
    "newDict = {}\n",
    "for i in range(len(keyExt)):\n",
    "    newDict[keyExt[i]] = sample_dict[keyExt[i]]\n",
    "print(newDict)"
   ]
  },
  {
   "cell_type": "code",
   "execution_count": 67,
   "id": "2cdce13f",
   "metadata": {},
   "outputs": [
    {
     "name": "stdout",
     "output_type": "stream",
     "text": [
      "(11, [222, 33], 44, 55)\n"
     ]
    }
   ],
   "source": [
    "#problem 9\n",
    "\n",
    "# Modify Tuple\n",
    "\n",
    "tuple1 = (11, [22, 33], 44, 55)\n",
    "\n",
    "tuple1[1][0] = 222\n",
    "print(tuple1)"
   ]
  },
  {
   "cell_type": "code",
   "execution_count": null,
   "id": "ac657f28",
   "metadata": {},
   "outputs": [],
   "source": []
  }
 ],
 "metadata": {
  "kernelspec": {
   "display_name": "Python 3 (ipykernel)",
   "language": "python",
   "name": "python3"
  },
  "language_info": {
   "codemirror_mode": {
    "name": "ipython",
    "version": 3
   },
   "file_extension": ".py",
   "mimetype": "text/x-python",
   "name": "python",
   "nbconvert_exporter": "python",
   "pygments_lexer": "ipython3",
   "version": "3.11.4"
  }
 },
 "nbformat": 4,
 "nbformat_minor": 5
}
