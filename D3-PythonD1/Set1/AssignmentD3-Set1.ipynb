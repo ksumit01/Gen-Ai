{
 "cells": [
  {
   "cell_type": "markdown",
   "id": "c6c5d622",
   "metadata": {},
   "source": [
    "### Question 1\n"
   ]
  },
  {
   "cell_type": "code",
   "execution_count": 3,
   "id": "a1818d11",
   "metadata": {},
   "outputs": [
    {
     "name": "stdout",
     "output_type": "stream",
     "text": [
      "Hello World\n"
     ]
    }
   ],
   "source": [
    "print(\"Hello World\")\n"
   ]
  },
  {
   "cell_type": "markdown",
   "id": "10c27cd5",
   "metadata": {},
   "source": [
    "'''\n",
    "There are total 9 data types in python\n",
    "\n",
    "Integer (int):\n",
    "Represents whole numbers, positive or negative.\n",
    "Example: x = 5\n",
    "\n",
    "Float (float):\n",
    "\n",
    "Represents decimal numbers.\n",
    "Example: y = 3.14\n",
    "\n",
    "String (str):\n",
    "\n",
    "Represents text.\n",
    "Example: name = \"John\"\n",
    "\n",
    "Boolean (bool):\n",
    "\n",
    "Represents a binary value, either True or False.\n",
    "Example: is_python_fun = True\n",
    "\n",
    "List:\n",
    "\n",
    "An ordered collection of items, which can be of any data type.\n",
    "Example: fruits = [\"apple\", \"banana\", \"cherry\"]\n",
    "\n",
    "Tuple:\n",
    "\n",
    "Similar to lists but immutable (cannot be changed after creation).\n",
    "Example: coordinates = (3, 4)\n",
    "\n",
    "Dictionary (dict):\n",
    "\n",
    "A collection of key-value pairs.\n",
    "Example: person = {\"name\": \"Alice\", \"age\": 30}\n",
    "\n",
    "Set:\n",
    "\n",
    "An unordered collection of unique items.\n",
    "Example: unique_numbers = {1, 2, 3, 4, 5}\n",
    "NoneType (None):\n",
    "\n",
    "Represents the absence of a value.\n",
    "Example: empty_value = None\n",
    "'''"
   ]
  },
  {
   "cell_type": "markdown",
   "id": "bb4c7058",
   "metadata": {},
   "source": [
    "### Question 2\n",
    "Data Type Play: Create variables of each data type (integer, float, string, boolean, list, tuple, dictionary, set) and print their types and values.\n"
   ]
  },
  {
   "cell_type": "code",
   "execution_count": 21,
   "id": "3068ac88",
   "metadata": {},
   "outputs": [
    {
     "name": "stdout",
     "output_type": "stream",
     "text": [
      "5\n",
      "15\n",
      "<class 'int'>\n",
      "sumit\n",
      "<class 'str'>\n",
      "4.3\n",
      "<class 'float'>\n"
     ]
    }
   ],
   "source": [
    "#Integer\n",
    "\n",
    "x= 5\n",
    "print(x)\n",
    "x=10\n",
    "print(x+5)\n",
    "x=x+20\n",
    "print(type(x))\n",
    "x=\"sumit\"\n",
    "print(x)\n",
    "print(type(x))\n",
    "x=4.3\n",
    "print(x)\n",
    "print(type(x))\n",
    "# type(x)"
   ]
  },
  {
   "cell_type": "code",
   "execution_count": 25,
   "id": "1eade46d",
   "metadata": {},
   "outputs": [
    {
     "name": "stdout",
     "output_type": "stream",
     "text": [
      "<class 'bool'> False True\n"
     ]
    }
   ],
   "source": [
    "#boolen\n",
    "flagTrue = True\n",
    "flagFalse = False\n",
    "print(type(flag), flagFalse, flagTrue)"
   ]
  },
  {
   "cell_type": "code",
   "execution_count": 47,
   "id": "5761c06b",
   "metadata": {},
   "outputs": [
    {
     "name": "stdout",
     "output_type": "stream",
     "text": [
      "['apple', 'oranges', 12, True, 12.5]\n",
      "['banana', 'oranges', 12, True, 18.4] <class 'list'>\n",
      "['banana', 'oranges', 12]\n",
      "[12, True, 18.4]\n"
     ]
    }
   ],
   "source": [
    "#List: Same as ArrayList in Java\n",
    "\n",
    "fruits = [\"apple\",\"oranges\", 12,True,12.5]\n",
    "print(fruits)\n",
    "fruits[0] = 'banana'\n",
    "fruits[-1] = 18.4\n",
    "print(fruits, type(fruits))\n",
    "\n",
    "# slice in list\n",
    "first_three = fruits[0:3]\n",
    "print(first_three)\n",
    "#we can also directly print the sliced part , not just store it \n",
    "#last three elements\n",
    "print(fruits[-3:])\n",
    "\n",
    "\n",
    "\n"
   ]
  },
  {
   "cell_type": "code",
   "execution_count": 105,
   "id": "a6832be3",
   "metadata": {},
   "outputs": [
    {
     "name": "stdout",
     "output_type": "stream",
     "text": [
      "('red', 'green', 'Yellow') green Yellow <class 'tuple'>\n",
      "(1, 2, 3, 4, 5)\n",
      "('red', 'green', 'Yellow', 1, 2, 3, 4, 5)\n",
      "red green\n"
     ]
    }
   ],
   "source": [
    "#Tuple \n",
    "\n",
    "# Similar to lists but immutable (cannot be changed after creation).\n",
    "\n",
    "#Two ways to declare and initialize a tuple\n",
    "\n",
    "#1. using ()\n",
    "#2. using comma separated values.\n",
    "\n",
    "colorTuple = (\"red\",\"green\",\"Yellow\")\n",
    "\n",
    "numberTuple = 1,2,3,4,5\n",
    "\n",
    "\n",
    "print(colorTuple, colorTuple[1], colorTuple[-1], type(colorTuple))\n",
    "\n",
    "# colorTuple[1] = \"Maroon\" : Gives Error : TypeError: 'tuple' object does not support item assignment\n",
    "\n",
    "\n",
    "print(numberTuple)\n",
    "\n",
    "#Tuple concatination\n",
    "\n",
    "concatinatedTuple = colorTuple + numberTuple\n",
    "print(concatinatedTuple)\n",
    "\n",
    "#Tuple unpacking\n",
    "r,g,y = colorTuple\n",
    "print(r,g)\n",
    "\n"
   ]
  },
  {
   "cell_type": "code",
   "execution_count": 106,
   "id": "c3ccf3c4",
   "metadata": {},
   "outputs": [
    {
     "name": "stdout",
     "output_type": "stream",
     "text": [
      "{'name': 'sumit', 'age': 24, 'roll': 10, 'city': 'Gaya'} <class 'dict'>\n",
      "sumit\n",
      "24\n",
      "26\n",
      "unknown\n",
      "Key Doesn't Exist\n",
      "Not Found\n",
      "sumit\n",
      "Gaya\n",
      "{'age': 26, 'roll': 10}\n"
     ]
    }
   ],
   "source": [
    "#Dictionary\n",
    "\n",
    "# A collection of key-value pairs.\n",
    "#same as HashMap in Java, In java we requires explicit typing.\n",
    "\n",
    "student = {\n",
    "            \"name\":\"sumit\",\n",
    "           \"age\":24,\n",
    "           \"roll\":10,\n",
    "           \"city\":\"Gaya\"\n",
    "          }\n",
    "print(student, type(student))\n",
    "\n",
    "print(student[\"name\"])\n",
    "print(student[\"age\"])\n",
    "student[\"age\"] = 26\n",
    "print(student[\"age\"])\n",
    "# print(student[\"state\"]) Throws Error: KeyError\n",
    "#Normally if Key Doestn't Exist it throws an error named KeyError to avaoid that we can use .get() method, if key not found it will print \"unknown\" default\n",
    "print(student.get(\"state\",\"unknown\"))\n",
    "#customer Exception throw\n",
    "print(student.get(\"state\",\"Key Doesn't Exist\"))\n",
    "\n",
    "#Key used as boolean\n",
    "# Checking for Key Existence:\n",
    "# To check if a key exists in a dictionary, you can use the in keyword:\n",
    "if \"State\" in student:\n",
    "    print(\"Found\")\n",
    "else:\n",
    "    print(\"Not Found\")\n",
    "\n",
    "    \n",
    "#Pop an Key, the value will automatically gets deleted if key is deleted \n",
    "name = student.pop(\"name\")\n",
    "print(name)\n",
    "print(student.pop(\"city\"))\n",
    "print(student)\n"
   ]
  },
  {
   "cell_type": "code",
   "execution_count": null,
   "id": "11b2e076",
   "metadata": {},
   "outputs": [],
   "source": []
  },
  {
   "cell_type": "code",
   "execution_count": 104,
   "id": "59972384",
   "metadata": {
    "scrolled": true
   },
   "outputs": [
    {
     "name": "stdout",
     "output_type": "stream",
     "text": [
      "{1, 2, 3, 4, 5, 6}\n",
      "{'s', 'sumit', 'a'}\n",
      "{False, True}\n",
      "{1, 2, 3, 4, 5, 6, 10}\n",
      "{2, 3, 4, 5, 6, 10}\n",
      "Five in Set\n",
      "{'blue', 'green', 'red'} <class 'set'>\n",
      "['blue', 'green', 'red'] <class 'list'>\n"
     ]
    }
   ],
   "source": [
    "#Set\n",
    "# An unordered collection of unique items.Same as HashSet in java , both store unique elements however Java's HashSet requires explicit typing.\n",
    "\n",
    "numberSet = {1,2,3,3,3,4,5,5,6,1,2,3}\n",
    "print(numberSet)\n",
    "stringSet = {\"s\",\"s\",\"a\",'a',\"sumit\",\"sumit\"}\n",
    "print(stringSet)\n",
    "booleanSet = {True,False,True,True,False}\n",
    "print(booleanSet)\n",
    "\n",
    "numberSet.add(10)\n",
    "print(numberSet)\n",
    "\n",
    "#Cannot store the removed element in any variable\n",
    "numberSet.remove(1);\n",
    "print(numberSet)\n",
    "\n",
    "if 5 in numberSet:\n",
    "    print(\"Five in Set\")\n",
    "else:\n",
    "    print(\"Five not in Set\")\n",
    "\n",
    "listSet = set([\"red\", \"green\", \"blue\",\"red\"])\n",
    "print(listSet, type(listSet))\n",
    "\n",
    "setList = list(listSet)\n",
    "print(setList, type(setList))\n"
   ]
  },
  {
   "cell_type": "markdown",
   "id": "5ce7f271",
   "metadata": {},
   "source": [
    "### Question 3\n",
    "List Operations: Write a Python program to create a list of numbers from 1 to 10, and then add a number, remove a number, and sort the list."
   ]
  },
  {
   "cell_type": "code",
   "execution_count": 120,
   "id": "6e1b5eaa",
   "metadata": {},
   "outputs": [
    {
     "name": "stdout",
     "output_type": "stream",
     "text": [
      "[0, 1, 2, 3, 4, 5, 6, 7, 8, 9, 10, 20]\n",
      "[0, 1, 2, 3, 4, 5, 6, 7, 8, 9, 10]\n",
      "[0, 1, 2, 3, 4, 5, 6, 7, 8, 9, 10, 4]\n",
      "[0, 1, 2, 3, 4, 4, 5, 6, 7, 8, 9, 10]\n",
      "[10, 9, 8, 7, 6, 5, 4, 4, 3, 2, 1, 0]\n"
     ]
    }
   ],
   "source": [
    "numberList = []\n",
    "\n",
    "for i in range(0,11):\n",
    "    numberList.append(i)\n",
    "\n",
    "numberList.append(20)\n",
    "print(numberList)\n",
    "numberList.pop()\n",
    "print(numberList)\n",
    "numberList.append(4)\n",
    "print(numberList)\n",
    "numberList.sort();\n",
    "print(numberList)\n",
    "# numberList.sort(reverse=True) it will also reverse the list \n",
    "numberList.reverse()\n",
    "print(numberList)"
   ]
  },
  {
   "cell_type": "markdown",
   "id": "cb6e808e",
   "metadata": {},
   "source": [
    "### Question 4\n",
    "**Sum and Average**: Write a Python program that calculates and prints the sum and average of a list of numbers.\n",
    "    - *Input*: [10, 20, 30, 40]\n",
    "    - *Output*: \"Sum: 100, Average: 25.0\""
   ]
  },
  {
   "cell_type": "code",
   "execution_count": 127,
   "id": "5ef07923",
   "metadata": {},
   "outputs": [
    {
     "name": "stdout",
     "output_type": "stream",
     "text": [
      "100\n",
      "25.0\n"
     ]
    }
   ],
   "source": [
    "numList = [10,20,30,40]\n",
    "# print(len(numList))\n",
    "print(sum(numList))\n",
    "print(sum(numList)/len(numList))"
   ]
  },
  {
   "cell_type": "markdown",
   "id": "71ad5305",
   "metadata": {},
   "source": [
    "### Question 5\n",
    "**String Reversal**: Write a Python function that takes a string and returns the string in reverse order.\n",
    "    - *Input*: \"Python\"\n",
    "    - *Output*: \"nohtyP\""
   ]
  },
  {
   "cell_type": "code",
   "execution_count": 131,
   "id": "21f7f928",
   "metadata": {},
   "outputs": [
    {
     "name": "stdout",
     "output_type": "stream",
     "text": [
      "Enter String You want to ReversePython\n",
      "nohtyP\n",
      "nohtyP\n"
     ]
    }
   ],
   "source": [
    "original_string = input(\"Enter String You want to Reverse\")\n",
    "\n",
    "reversedInp = \"\".join(reversed(original_string))\n",
    "print(reversedInp)\n",
    "\n",
    "#Another Way using loop \n",
    "\n",
    "\n",
    "#can be also solved using String slicing\n",
    "\n",
    "reversedString = original_string[::-1]\n",
    "print(reversedString)"
   ]
  },
  {
   "cell_type": "markdown",
   "id": "e7fecb92",
   "metadata": {},
   "source": [
    " ### Question 6\n",
    " **Count Vowels**: Write a Python program that counts the number of vowels in a given string.\n",
    "    - *Input*: \"Hello\"\n",
    "    - *Output*: \"Number of vowels: 2\""
   ]
  },
  {
   "cell_type": "code",
   "execution_count": 139,
   "id": "7ac79daa",
   "metadata": {},
   "outputs": [
    {
     "name": "stdout",
     "output_type": "stream",
     "text": [
      "Enter String Python\n",
      "1\n"
     ]
    }
   ],
   "source": [
    "original_string = input(\"Enter String \")\n",
    "c = 0;\n",
    "for char in original_string:\n",
    "    if char in 'aeiouAEIOU':\n",
    "        c+=1;\n",
    "print(c)"
   ]
  },
  {
   "cell_type": "markdown",
   "id": "97fae0ae",
   "metadata": {},
   "source": [
    "### Question 7\n",
    "**Prime Number**: Write a Python function that checks whether a given number is a prime number.\n",
    "    - *Input*: 13\n",
    "    - *Output*: \"13 is a prime number.\""
   ]
  },
  {
   "cell_type": "code",
   "execution_count": 176,
   "id": "52462b0a",
   "metadata": {},
   "outputs": [
    {
     "name": "stdout",
     "output_type": "stream",
     "text": [
      "Enter number13\n",
      "13 is a prime number\n"
     ]
    }
   ],
   "source": [
    "num = int(input(\"Enter number\"))\n",
    "c=0;\n",
    "for i in range(1,num+1):\n",
    "    if(num%i==0):\n",
    "        c+=1;\n",
    "        \n",
    "if(c<=2 and num!=0):\n",
    "    print(str(num)+\" is a prime number\")\n",
    "    \n",
    "else:\n",
    "    print(str(num)+\" is not a prime number\")"
   ]
  },
  {
   "cell_type": "markdown",
   "id": "3f25a662",
   "metadata": {},
   "source": [
    "### Question 8\n",
    " **Factorial Calculation**: Write a Python function that calculates the factorial of a number.\n",
    "    - *Input*: 5\n",
    "    - *Output*: \"Factorial of 5 is 120.\""
   ]
  },
  {
   "cell_type": "code",
   "execution_count": 184,
   "id": "079525f1",
   "metadata": {},
   "outputs": [
    {
     "name": "stdout",
     "output_type": "stream",
     "text": [
      "Enter number5\n",
      "120\n"
     ]
    }
   ],
   "source": [
    "num = int(input(\"Enter number\"))\n",
    "fact = 1\n",
    "for i in range(1,num+1):\n",
    "    fact=fact * i\n",
    "print(fact)"
   ]
  },
  {
   "cell_type": "markdown",
   "id": "f5308b5c",
   "metadata": {},
   "source": [
    "### Question 9\n",
    " **Fibonacci Sequence**: Write a Python function that generates the first n numbers in the Fibonacci sequence.\n",
    "    - *Input*: 5\n",
    "    - *Output*: \"[0, 1, 1, 2, 3]\""
   ]
  },
  {
   "cell_type": "code",
   "execution_count": 185,
   "id": "c5d4191c",
   "metadata": {},
   "outputs": [
    {
     "name": "stdout",
     "output_type": "stream",
     "text": [
      "Enter the value of n: 5\n",
      "The first 5 Fibonacci numbers are: [0, 1, 1, 2, 3]\n"
     ]
    }
   ],
   "source": [
    "n = int(input(\"Enter the value of n: \"))\n",
    "\n",
    "# Initialize the first two Fibonacci numbers\n",
    "fibonacci_sequence = [0, 1]\n",
    "\n",
    "# Generate the Fibonacci sequence up to the nth number\n",
    "while len(fibonacci_sequence) < n:\n",
    "    next_number = fibonacci_sequence[-1] + fibonacci_sequence[-2]\n",
    "    fibonacci_sequence.append(next_number)\n",
    "\n",
    "print(\"The first\", n, \"Fibonacci numbers are:\", fibonacci_sequence)\n"
   ]
  },
  {
   "cell_type": "markdown",
   "id": "49924f21",
   "metadata": {},
   "source": [
    "### Question 10\n",
    " **List Comprehension**: Use list comprehension to create a list of the squares of the numbers from 1 to 10.\n",
    "    - *Input*: None\n",
    "    - *Output*: \"[1, 4, 9, 16, 25, 36, 49, 64, 81, 100]\""
   ]
  },
  {
   "cell_type": "markdown",
   "id": "5b86ac88",
   "metadata": {},
   "source": [
    "List comprehension is a concise and expressive way to create lists in Python. It allows you to generate a new list by applying an expression to each item in an existing iterable (such as a list, tuple, or range) and optionally applying a condition to filter the items.\n",
    "\n",
    "The basic syntax of a list comprehension is as follows:\n",
    "new_list = **[expression for item in iterable if condition]**\n",
    "\n"
   ]
  },
  {
   "cell_type": "code",
   "execution_count": 192,
   "id": "cc078dc9",
   "metadata": {},
   "outputs": [
    {
     "name": "stdout",
     "output_type": "stream",
     "text": [
      "[0, 1, 4, 9, 16, 25, 36, 49, 64, 81, 100]\n"
     ]
    }
   ],
   "source": [
    "# x = int(input(\"Enter the value of n: \"))\n",
    "squareListComprehension  = [x**2 for x in range(11)]\n",
    "print(squareListComprehension)"
   ]
  },
  {
   "cell_type": "code",
   "execution_count": null,
   "id": "35c58740",
   "metadata": {},
   "outputs": [],
   "source": []
  },
  {
   "cell_type": "code",
   "execution_count": null,
   "id": "6a14ad8c",
   "metadata": {},
   "outputs": [],
   "source": []
  },
  {
   "cell_type": "code",
   "execution_count": null,
   "id": "ae65abfd",
   "metadata": {},
   "outputs": [],
   "source": []
  },
  {
   "cell_type": "code",
   "execution_count": null,
   "id": "3e515831",
   "metadata": {},
   "outputs": [],
   "source": []
  },
  {
   "cell_type": "code",
   "execution_count": null,
   "id": "0a01eb26",
   "metadata": {},
   "outputs": [],
   "source": []
  },
  {
   "cell_type": "code",
   "execution_count": null,
   "id": "6a058f80",
   "metadata": {},
   "outputs": [],
   "source": []
  },
  {
   "cell_type": "code",
   "execution_count": null,
   "id": "ab29e92d",
   "metadata": {},
   "outputs": [],
   "source": []
  },
  {
   "cell_type": "code",
   "execution_count": null,
   "id": "ec88fac8",
   "metadata": {},
   "outputs": [],
   "source": []
  },
  {
   "cell_type": "code",
   "execution_count": null,
   "id": "23dc0d76",
   "metadata": {},
   "outputs": [],
   "source": []
  },
  {
   "cell_type": "code",
   "execution_count": null,
   "id": "1797a06a",
   "metadata": {},
   "outputs": [],
   "source": []
  },
  {
   "cell_type": "code",
   "execution_count": null,
   "id": "2f590925",
   "metadata": {},
   "outputs": [],
   "source": []
  },
  {
   "cell_type": "code",
   "execution_count": null,
   "id": "48487d6e",
   "metadata": {},
   "outputs": [],
   "source": []
  },
  {
   "cell_type": "code",
   "execution_count": null,
   "id": "3f1cadbe",
   "metadata": {},
   "outputs": [],
   "source": []
  },
  {
   "cell_type": "code",
   "execution_count": null,
   "id": "7e191726",
   "metadata": {},
   "outputs": [],
   "source": []
  },
  {
   "cell_type": "code",
   "execution_count": null,
   "id": "b15107db",
   "metadata": {},
   "outputs": [],
   "source": []
  },
  {
   "cell_type": "code",
   "execution_count": null,
   "id": "aa6a3699",
   "metadata": {},
   "outputs": [],
   "source": []
  },
  {
   "cell_type": "code",
   "execution_count": null,
   "id": "c5dd0347",
   "metadata": {},
   "outputs": [],
   "source": []
  },
  {
   "cell_type": "code",
   "execution_count": null,
   "id": "7379d544",
   "metadata": {},
   "outputs": [],
   "source": []
  },
  {
   "cell_type": "code",
   "execution_count": null,
   "id": "1453ca8e",
   "metadata": {},
   "outputs": [],
   "source": []
  },
  {
   "cell_type": "code",
   "execution_count": null,
   "id": "41f7eed6",
   "metadata": {},
   "outputs": [],
   "source": []
  },
  {
   "cell_type": "code",
   "execution_count": null,
   "id": "e635a574",
   "metadata": {},
   "outputs": [],
   "source": []
  },
  {
   "cell_type": "code",
   "execution_count": null,
   "id": "def2e8d8",
   "metadata": {},
   "outputs": [],
   "source": []
  }
 ],
 "metadata": {
  "kernelspec": {
   "display_name": "Python 3 (ipykernel)",
   "language": "python",
   "name": "python3"
  },
  "language_info": {
   "codemirror_mode": {
    "name": "ipython",
    "version": 3
   },
   "file_extension": ".py",
   "mimetype": "text/x-python",
   "name": "python",
   "nbconvert_exporter": "python",
   "pygments_lexer": "ipython3",
   "version": "3.11.4"
  }
 },
 "nbformat": 4,
 "nbformat_minor": 5
}
